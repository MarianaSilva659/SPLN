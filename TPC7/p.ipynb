{
 "cells": [
  {
   "cell_type": "code",
   "execution_count": 21,
   "id": "1b96271c",
   "metadata": {},
   "outputs": [
    {
     "name": "stdout",
     "output_type": "stream",
     "text": [
      "56608\n"
     ]
    }
   ],
   "source": [
    "import re\n",
    "from PyPDF2 import PdfReader\n",
    "\n",
    "# Caminho do PDF após o reset\n",
    "pdf_path = \"Harry Potter.pdf\"\n",
    "\n",
    "# Recarregar o texto do PDF\n",
    "reader = PdfReader(pdf_path)\n",
    "raw_text = \"\"\n",
    "for page in reader.pages:\n",
    "    raw_text += page.extract_text() + \" \"\n",
    "\n",
    "# Lista simplificada de stopwords em português\n",
    "basic_stopwords = {\n",
    "    'a', 'à', 'às', 'agora', 'ainda', 'alguém', 'algum', 'alguma', 'algumas', 'alguns',\n",
    "    'ampla', 'amplas', 'amplo', 'amplos', 'ante', 'antes', 'ao', 'aos', 'apenas',\n",
    "    'apoio', 'após', 'aquela', 'aquelas', 'aquele', 'aqueles', 'aqui', 'aquilo',\n",
    "    'as', 'até', 'atrás', 'através', 'baixo', 'bastante', 'bem', 'boa', 'boas',\n",
    "    'bom', 'bons', 'breve', 'cá', 'cada', 'catorze', 'cedo', 'cento', 'certamente',\n",
    "    'certeza', 'cima', 'cinco', 'coisa', 'coisas', 'com', 'como', 'conselho', 'contra',\n",
    "    'contudo', 'custa', 'da', 'dá', 'dão', 'daquela', 'daquelas', 'daquele', 'daqueles',\n",
    "    'das', 'de', 'debaixo', 'dela', 'delas', 'dele', 'deles', 'demais', 'dentro',\n",
    "    'depois', 'desde', 'dessa', 'dessas', 'desse', 'desses', 'desta', 'destas',\n",
    "    'deste', 'destes', 'deve', 'devem', 'devendo', 'dever', 'deverá', 'deverão',\n",
    "    'deveria', 'deveriam', 'devia', 'deviam', 'disse', 'disso', 'disto', 'dito',\n",
    "    'diz', 'dizem', 'do', 'dos', 'doze', 'duas', 'e', 'é', 'ela', 'elas', 'ele',\n",
    "    'eles', 'em', 'embora', 'enquanto', 'entre', 'era', 'eram', 'éramos', 'essa',\n",
    "    'essas', 'esse', 'esses', 'esta', 'está', 'estamos', 'estão', 'estar', 'estará',\n",
    "    'estará', 'estas', 'estava', 'estavam', 'estávamos', 'este', 'esteja', 'estejam',\n",
    "    'estejamos', 'estes', 'esteve', 'estive', 'estivemos', 'estiver', 'estivera',\n",
    "    'estiveram', 'estivéramos', 'estiverem', 'estivermos', 'estivesse', 'estivessem',\n",
    "    'estivéssemos', 'estiveste', 'estivestes', 'estou', 'etc', 'eu', 'fará', 'favor',\n",
    "    'faz', 'fazeis', 'fazem', 'fazemos', 'fazendo', 'fazer', 'fazes', 'feita', 'feitas',\n",
    "    'feito', 'feitos', 'fez', 'fim', 'final', 'foi', 'fomos', 'for', 'fora', 'foram',\n",
    "    'fôramos', 'forem', 'formos', 'fosse', 'fossem', 'fôssemos', 'foste', 'fostes',\n",
    "    'fui', 'geral', 'grande', 'grandes', 'há', 'isso', 'isto', 'já', 'la', 'lá', 'lhe',\n",
    "    'lhes', 'lo', 'logo', 'longe', 'lugar', 'maior', 'mais', 'mal', 'mas', 'máximo',\n",
    "    'me', 'mediante', 'meu', 'meus', 'minha', 'minhas', 'momento', 'muito', 'muitos',\n",
    "    'na', 'nada', 'não', 'naquela', 'naquelas', 'naquele', 'naqueles', 'nas', 'nem',\n",
    "    'nenhuma', 'nessa', 'nessas', 'nesse', 'nesses', 'nesta', 'nestas', 'neste',\n",
    "    'nestes', 'ninguém', 'no', 'nos', 'nós', 'nossa', 'nossas', 'nosso', 'nossos',\n",
    "    'nova', 'novas', 'nove', 'novo', 'novos', 'num', 'numa', 'número', 'nunca',\n",
    "    'o', 'obra', 'obrigada', 'obrigado', 'oitava', 'oitavo', 'oito', 'onde', 'ontem',\n",
    "    'onze', 'os', 'ou', 'outra', 'outras', 'outro', 'outros', 'para', 'parece', 'parte',\n",
    "    'partir', 'paucas', 'pela', 'pelas', 'pelo', 'pelos'\n",
    "    \n",
    "}\n",
    "\n",
    "# Função simplificada de limpeza e tokenização\n",
    "def simple_tokenize(text):\n",
    "    text = text.lower()\n",
    "    text = re.sub(r'[^a-zA-ZáéíóúàèìòùãõâêîôûçÁÉÍÓÚÀÈÌÒÙÃÕÂÊÎÔÛÇ\\s]', '', text)\n",
    "    words = text.split()\n",
    "    return [word for word in words if word not in basic_stopwords and len(word) > 1]\n",
    "\n",
    "tokens_simple = simple_tokenize(raw_text)\n",
    "print(len(tokens_simple))"
   ]
  },
  {
   "cell_type": "code",
   "execution_count": 22,
   "id": "01e5c2fa",
   "metadata": {},
   "outputs": [],
   "source": [
    "# Agrupar tokens em pseudo-frases de 20 palavras\n",
    "grouped_sentences = [tokens_simple[i:i+20] for i in range(0, len(tokens_simple), 20)]\n",
    "from gensim.models import Word2Vec\n",
    "\n",
    "model = Word2Vec(grouped_sentences,vector_size=100, window=5, min_count=1, sg=1, epochs=5, workers=3)\n"
   ]
  },
  {
   "cell_type": "code",
   "execution_count": 23,
   "id": "7e736c5c",
   "metadata": {},
   "outputs": [
    {
     "data": {
      "text/plain": [
       "[('rony', 0.9947601556777954),\n",
       " ('vai', 0.9942600727081299),\n",
       " ('sabe', 0.9937885999679565),\n",
       " ('mione', 0.9927347898483276),\n",
       " ('potter', 0.9926936626434326),\n",
       " ('voz', 0.9924466013908386),\n",
       " ('acho', 0.9922819137573242),\n",
       " ('que', 0.991826593875885),\n",
       " ('dizer', 0.991777777671814),\n",
       " ('só', 0.9913229942321777)]"
      ]
     },
     "execution_count": 23,
     "metadata": {},
     "output_type": "execute_result"
    }
   ],
   "source": [
    "model.wv.most_similar('harry')\n"
   ]
  },
  {
   "cell_type": "code",
   "execution_count": 24,
   "id": "c8e9020a",
   "metadata": {},
   "outputs": [
    {
     "data": {
      "text/plain": [
       "[('voz', 0.9952446818351746),\n",
       " ('harry', 0.9947601556777954),\n",
       " ('sabe', 0.9943975806236267),\n",
       " ('mione', 0.9937140345573425),\n",
       " ('viu', 0.9933446049690247),\n",
       " ('acho', 0.9931005239486694),\n",
       " ('só', 0.9928454756736755),\n",
       " ('quem', 0.9927266836166382),\n",
       " ('vai', 0.9923943281173706),\n",
       " ('vez', 0.9920089244842529)]"
      ]
     },
     "execution_count": 24,
     "metadata": {},
     "output_type": "execute_result"
    }
   ],
   "source": [
    "model.wv.most_similar('rony')\n"
   ]
  },
  {
   "cell_type": "code",
   "execution_count": 29,
   "id": "237b5254",
   "metadata": {},
   "outputs": [
    {
     "data": {
      "text/plain": [
       "[('riddle', 0.996565043926239),\n",
       " ('ver', 0.9963187575340271),\n",
       " ('quando', 0.996283233165741),\n",
       " ('vocês', 0.9960057139396667),\n",
       " ('vez', 0.9959772825241089),\n",
       " ('mione', 0.9958467483520508),\n",
       " ('gritou', 0.9958275556564331),\n",
       " ('hagrid', 0.9957333207130432),\n",
       " ('viu', 0.9956439137458801),\n",
       " ('murta', 0.9955810904502869)]"
      ]
     },
     "execution_count": 29,
     "metadata": {},
     "output_type": "execute_result"
    }
   ],
   "source": [
    "model.wv.most_similar('hermione')\n"
   ]
  },
  {
   "cell_type": "code",
   "execution_count": 30,
   "id": "51d1da4b",
   "metadata": {},
   "outputs": [
    {
     "data": {
      "text/plain": [
       "[('malfoy', 0.9715104699134827),\n",
       " ('sra', 0.9422608613967896),\n",
       " ('sr', 0.9386721253395081),\n",
       " ('gina', 0.9373323917388916),\n",
       " ('jorge', 0.923483669757843),\n",
       " ('fred', 0.9196857810020447),\n",
       " ('percy', 0.9190070033073425),\n",
       " ('ah', 0.9181221723556519),\n",
       " ('carro', 0.917512059211731),\n",
       " ('borgin', 0.9139347076416016)]"
      ]
     },
     "execution_count": 30,
     "metadata": {},
     "output_type": "execute_result"
    }
   ],
   "source": [
    "model.wv.most_similar('weasley')\n"
   ]
  }
 ],
 "metadata": {
  "kernelspec": {
   "display_name": "envNAME",
   "language": "python",
   "name": "python3"
  },
  "language_info": {
   "codemirror_mode": {
    "name": "ipython",
    "version": 3
   },
   "file_extension": ".py",
   "mimetype": "text/x-python",
   "name": "python",
   "nbconvert_exporter": "python",
   "pygments_lexer": "ipython3",
   "version": "3.12.3"
  }
 },
 "nbformat": 4,
 "nbformat_minor": 5
}
